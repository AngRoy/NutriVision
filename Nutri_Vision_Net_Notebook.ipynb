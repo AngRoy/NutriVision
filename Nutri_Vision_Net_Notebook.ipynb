{
 "cells": [
  {
   "cell_type": "code",
   "execution_count": null,
   "metadata": {
    "execution": {
     "iopub.execute_input": "2025-02-15T10:16:15.125516Z",
     "iopub.status.busy": "2025-02-15T10:16:15.125012Z",
     "iopub.status.idle": "2025-02-15T11:24:38.983061Z",
     "shell.execute_reply": "2025-02-15T11:24:38.982224Z",
     "shell.execute_reply.started": "2025-02-15T10:16:15.125481Z"
    },
    "trusted": true
   },
   "outputs": [
    {
     "name": "stdout",
     "output_type": "stream",
     "text": [
      "Using device: cuda\n",
      "Loading Food Nutrition mapping...\n",
      "Food Nutrition: 2395 items, target dim = 3\n",
      "Loading Fruits & Vegetables mapping...\n",
      "Fruits & Vegetables: 146 items, target dim = 9\n",
      "Loading Fastfood mapping...\n",
      "Fastfood: 503 items, target dim = 8\n",
      "Unified dataset size: 6000 samples\n"
     ]
    },
    {
     "data": {
      "application/vnd.jupyter.widget-view+json": {
       "model_id": "ed86b186a40846979d5dc07fc2bd22ef",
       "version_major": 2,
       "version_minor": 0
      },
      "text/plain": [
       "preprocessor_config.json:   0%|          | 0.00/316 [00:00<?, ?B/s]"
      ]
     },
     "metadata": {},
     "output_type": "display_data"
    },
    {
     "data": {
      "application/vnd.jupyter.widget-view+json": {
       "model_id": "cc60e1111a99428ea9038239a8e6c04b",
       "version_major": 2,
       "version_minor": 0
      },
      "text/plain": [
       "tokenizer_config.json:   0%|          | 0.00/592 [00:00<?, ?B/s]"
      ]
     },
     "metadata": {},
     "output_type": "display_data"
    },
    {
     "data": {
      "application/vnd.jupyter.widget-view+json": {
       "model_id": "8f2146bd330f4e6e849c66537da35385",
       "version_major": 2,
       "version_minor": 0
      },
      "text/plain": [
       "vocab.json:   0%|          | 0.00/862k [00:00<?, ?B/s]"
      ]
     },
     "metadata": {},
     "output_type": "display_data"
    },
    {
     "data": {
      "application/vnd.jupyter.widget-view+json": {
       "model_id": "7f86ee38c89446fe9a3278614e1e5f2d",
       "version_major": 2,
       "version_minor": 0
      },
      "text/plain": [
       "merges.txt:   0%|          | 0.00/525k [00:00<?, ?B/s]"
      ]
     },
     "metadata": {},
     "output_type": "display_data"
    },
    {
     "data": {
      "application/vnd.jupyter.widget-view+json": {
       "model_id": "d081ae9c6cd9436689e13d5d6008a054",
       "version_major": 2,
       "version_minor": 0
      },
      "text/plain": [
       "tokenizer.json:   0%|          | 0.00/2.22M [00:00<?, ?B/s]"
      ]
     },
     "metadata": {},
     "output_type": "display_data"
    },
    {
     "data": {
      "application/vnd.jupyter.widget-view+json": {
       "model_id": "ca510302b3e347e28369b4a2e2bab92e",
       "version_major": 2,
       "version_minor": 0
      },
      "text/plain": [
       "special_tokens_map.json:   0%|          | 0.00/389 [00:00<?, ?B/s]"
      ]
     },
     "metadata": {},
     "output_type": "display_data"
    },
    {
     "data": {
      "application/vnd.jupyter.widget-view+json": {
       "model_id": "9942a0ac7f6e4b44bb9349b7d4ce8961",
       "version_major": 2,
       "version_minor": 0
      },
      "text/plain": [
       "config.json:   0%|          | 0.00/4.19k [00:00<?, ?B/s]"
      ]
     },
     "metadata": {},
     "output_type": "display_data"
    },
    {
     "data": {
      "application/vnd.jupyter.widget-view+json": {
       "model_id": "789160ee22c84b4cbaaef883c42dae6a",
       "version_major": 2,
       "version_minor": 0
      },
      "text/plain": [
       "pytorch_model.bin:   0%|          | 0.00/605M [00:00<?, ?B/s]"
      ]
     },
     "metadata": {},
     "output_type": "display_data"
    },
    {
     "data": {
      "application/vnd.jupyter.widget-view+json": {
       "model_id": "ac8fde192145447e932164150e7c400d",
       "version_major": 2,
       "version_minor": 0
      },
      "text/plain": [
       "preprocessor_config.json:   0%|          | 0.00/287 [00:00<?, ?B/s]"
      ]
     },
     "metadata": {},
     "output_type": "display_data"
    },
    {
     "data": {
      "application/vnd.jupyter.widget-view+json": {
       "model_id": "9f79faa4267540909bc7d7dcb4405351",
       "version_major": 2,
       "version_minor": 0
      },
      "text/plain": [
       "tokenizer_config.json:   0%|          | 0.00/506 [00:00<?, ?B/s]"
      ]
     },
     "metadata": {},
     "output_type": "display_data"
    },
    {
     "data": {
      "application/vnd.jupyter.widget-view+json": {
       "model_id": "111ba3526c6c4f799f29eb5529ac43a2",
       "version_major": 2,
       "version_minor": 0
      },
      "text/plain": [
       "vocab.txt:   0%|          | 0.00/232k [00:00<?, ?B/s]"
      ]
     },
     "metadata": {},
     "output_type": "display_data"
    },
    {
     "data": {
      "application/vnd.jupyter.widget-view+json": {
       "model_id": "bd88e3564028475cbf1731719383d72a",
       "version_major": 2,
       "version_minor": 0
      },
      "text/plain": [
       "tokenizer.json:   0%|          | 0.00/711k [00:00<?, ?B/s]"
      ]
     },
     "metadata": {},
     "output_type": "display_data"
    },
    {
     "data": {
      "application/vnd.jupyter.widget-view+json": {
       "model_id": "1b5d73a514dc4b81be3acfeec821d32e",
       "version_major": 2,
       "version_minor": 0
      },
      "text/plain": [
       "special_tokens_map.json:   0%|          | 0.00/125 [00:00<?, ?B/s]"
      ]
     },
     "metadata": {},
     "output_type": "display_data"
    },
    {
     "data": {
      "application/vnd.jupyter.widget-view+json": {
       "model_id": "8e296e4faee24d09abda5d88cd1212fe",
       "version_major": 2,
       "version_minor": 0
      },
      "text/plain": [
       "config.json:   0%|          | 0.00/4.56k [00:00<?, ?B/s]"
      ]
     },
     "metadata": {},
     "output_type": "display_data"
    },
    {
     "data": {
      "application/vnd.jupyter.widget-view+json": {
       "model_id": "a39b26dd63254a12bb4c3607053603bf",
       "version_major": 2,
       "version_minor": 0
      },
      "text/plain": [
       "pytorch_model.bin:   0%|          | 0.00/990M [00:00<?, ?B/s]"
      ]
     },
     "metadata": {},
     "output_type": "display_data"
    },
    {
     "name": "stderr",
     "output_type": "stream",
     "text": [
      "Epoch 1/1: 100%|██████████| 1500/1500 [1:08:08<00:00,  2.73s/it, loss=2.57e+4]\n"
     ]
    },
    {
     "name": "stdout",
     "output_type": "stream",
     "text": [
      "Epoch [1/1] Average Loss: 22573.5075\n",
      "Training complete.\n",
      "Model saved as nutrivision_multihand.pt\n"
     ]
    }
   ],
   "source": [
    "import os\n",
    "import torch\n",
    "import torch.optim as optim\n",
    "from torch.utils.data import DataLoader\n",
    "from tqdm import tqdm\n",
    "from data_utils import load_food_nutrition_mapping, load_fv_mapping, load_fastfood_mapping, UnifiedFoodDataset\n",
    "from models import NutriVisionNetMultiHead\n",
    "\n",
    "def train_model(model, dataloader, num_epochs, optimizer, device):\n",
    "    model.train()\n",
    "    mse_loss = torch.nn.MSELoss()\n",
    "    for epoch in range(num_epochs):\n",
    "        running_loss = 0.0\n",
    "        pbar = tqdm(dataloader, desc=f\"Epoch {epoch+1}/{num_epochs}\")\n",
    "        for batch in pbar:\n",
    "            images, targets, sources, class_names = batch\n",
    "            batch_loss = 0.0\n",
    "            optimizer.zero_grad()\n",
    "            for i in range(len(images)):\n",
    "                image = images[i]\n",
    "                target = targets[i].to(device).unsqueeze(0)\n",
    "                source = sources[i]\n",
    "                pred, caption = model(image, source)\n",
    "                loss = mse_loss(pred, target)\n",
    "                loss.backward()\n",
    "                batch_loss += loss.item()\n",
    "            optimizer.step()\n",
    "            pbar.set_postfix({\"loss\": batch_loss/len(images)})\n",
    "            running_loss += batch_loss\n",
    "        avg_loss = running_loss / len(dataloader.dataset)\n",
    "        print(f\"Epoch [{epoch+1}/{num_epochs}] Average Loss: {avg_loss:.4f}\")\n",
    "    print(\"Training complete.\")\n",
    "\n",
    "def main():\n",
    "    device = \"cuda\" if torch.cuda.is_available() else \"cpu\"\n",
    "    nutrition_dir = \"/kaggle/input/food-nutrition-dataset/FINAL FOOD DATASET\"\n",
    "    fruits_path = \"/kaggle/input/fruits-and-vegetables-nutritional-values/fruits.csv\"\n",
    "    vegetables_path = \"/kaggle/input/fruits-and-vegetables-nutritional-values/vegetables.csv\"\n",
    "    fastfood_path = \"/kaggle/input/fastfood-nutrition/fastfood.csv\"\n",
    "    images_root = \"/kaggle/input/food41/images\"\n",
    "    mapping_food, cols_food = load_food_nutrition_mapping(nutrition_dir)\n",
    "    print(f\"Food Nutrition: {len(mapping_food)} items, target dim = {len(cols_food)}\")\n",
    "    mapping_fv, cols_fv = load_fv_mapping(fruits_path, vegetables_path)\n",
    "    print(f\"Fruits & Vegetables: {len(mapping_fv)} items, target dim = {len(cols_fv)}\")\n",
    "    mapping_fastfood, cols_fastfood = load_fastfood_mapping(fastfood_path)\n",
    "    print(f\"Fastfood: {len(mapping_fastfood)} items, target dim = {len(cols_fastfood)}\")\n",
    "    dataset = UnifiedFoodDataset(images_root, mapping_fastfood, mapping_fv, mapping_food, transform=None)\n",
    "    print(f\"Unified dataset size: {len(dataset)} samples\")\n",
    "    dataloader = DataLoader(dataset, batch_size=4, shuffle=True, collate_fn=lambda x: list(zip(*x)))\n",
    "    food_nutrition_dim = len(cols_food)\n",
    "    fv_dim = len(cols_fv)\n",
    "    fastfood_dim = len(cols_fastfood)\n",
    "    model = NutriVisionNetMultiHead(food_nutrition_dim, fv_dim, fastfood_dim, device=device, fine_tune_clip_image=True)\n",
    "    model.to(device)\n",
    "    optimizer = optim.Adam(filter(lambda p: p.requires_grad, model.parameters()), lr=1e-5)\n",
    "    num_epochs = 1\n",
    "    train_model(model, dataloader, num_epochs, optimizer, device)\n",
    "    torch.save(model.state_dict(), \"nutrivision_multihand.pt\")\n",
    "    print(\"Model saved as nutrivision_multihand.pt\")\n",
    "\n",
    "if __name__ == \"__main__\":\n",
    "    main()"
   ]
  }
 ],
 "metadata": {
  "kaggle": {
   "accelerator": "nvidiaTeslaT4",
   "dataSources": [
    {
     "datasetId": 1864,
     "sourceId": 33884,
     "sourceType": "datasetVersion"
    },
    {
     "datasetId": 1194738,
     "sourceId": 1997467,
     "sourceType": "datasetVersion"
    },
    {
     "datasetId": 3028284,
     "sourceId": 5206752,
     "sourceType": "datasetVersion"
    },
    {
     "datasetId": 5306169,
     "sourceId": 8820139,
     "sourceType": "datasetVersion"
    }
   ],
   "isGpuEnabled": true,
   "isInternetEnabled": true,
   "language": "python",
   "sourceType": "notebook"
  },
  "kernelspec": {
   "display_name": "Flexible",
   "language": "python",
   "name": "python3"
  },
  "language_info": {
   "codemirror_mode": {
    "name": "ipython",
    "version": 3
   },
   "file_extension": ".py",
   "mimetype": "text/x-python",
   "name": "python",
   "nbconvert_exporter": "python",
   "pygments_lexer": "ipython3",
   "version": "3.9.20"
  }
 },
 "nbformat": 4,
 "nbformat_minor": 4
}
